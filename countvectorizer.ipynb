{
 "cells": [
  {
   "cell_type": "code",
   "execution_count": 2,
   "id": "ad51e0ea",
   "metadata": {},
   "outputs": [],
   "source": [
    "from sklearn.feature_extraction.text import CountVectorizer as cntv"
   ]
  },
  {
   "cell_type": "code",
   "execution_count": 3,
   "id": "9a009def",
   "metadata": {},
   "outputs": [],
   "source": [
    "dataset = ['Hey welcome to the machine learning', 'I am Lemon', 'I like ML', 'Nice to meet you']"
   ]
  },
  {
   "cell_type": "code",
   "execution_count": 4,
   "id": "074c81fa",
   "metadata": {},
   "outputs": [
    {
     "data": {
      "text/plain": [
       "['Hey welcome to the machine learning',\n",
       " 'I am Lemon',\n",
       " 'I like ML',\n",
       " 'Nice to meet you']"
      ]
     },
     "execution_count": 4,
     "metadata": {},
     "output_type": "execute_result"
    }
   ],
   "source": [
    "dataset"
   ]
  },
  {
   "cell_type": "code",
   "execution_count": 6,
   "id": "184225c9",
   "metadata": {},
   "outputs": [],
   "source": [
    "cv = cntv()\n",
    "x = cv.fit_transform(dataset)"
   ]
  },
  {
   "cell_type": "code",
   "execution_count": 8,
   "id": "ca259833",
   "metadata": {},
   "outputs": [
    {
     "data": {
      "text/plain": [
       "['am',\n",
       " 'hey',\n",
       " 'learning',\n",
       " 'lemon',\n",
       " 'like',\n",
       " 'machine',\n",
       " 'meet',\n",
       " 'ml',\n",
       " 'nice',\n",
       " 'the',\n",
       " 'to',\n",
       " 'welcome',\n",
       " 'you']"
      ]
     },
     "execution_count": 8,
     "metadata": {},
     "output_type": "execute_result"
    }
   ],
   "source": [
    "cv.get_feature_names()"
   ]
  },
  {
   "cell_type": "code",
   "execution_count": 9,
   "id": "1895e1ac",
   "metadata": {},
   "outputs": [
    {
     "data": {
      "text/plain": [
       "array([[0, 1, 1, 0, 0, 1, 0, 0, 0, 1, 1, 1, 0],\n",
       "       [1, 0, 0, 1, 0, 0, 0, 0, 0, 0, 0, 0, 0],\n",
       "       [0, 0, 0, 0, 1, 0, 0, 1, 0, 0, 0, 0, 0],\n",
       "       [0, 0, 0, 0, 0, 0, 1, 0, 1, 0, 1, 0, 1]], dtype=int64)"
      ]
     },
     "execution_count": 9,
     "metadata": {},
     "output_type": "execute_result"
    }
   ],
   "source": [
    "x.toarray()"
   ]
  },
  {
   "cell_type": "code",
   "execution_count": null,
   "id": "9baaa247",
   "metadata": {},
   "outputs": [],
   "source": []
  }
 ],
 "metadata": {
  "kernelspec": {
   "display_name": "Python 3",
   "language": "python",
   "name": "python3"
  },
  "language_info": {
   "codemirror_mode": {
    "name": "ipython",
    "version": 3
   },
   "file_extension": ".py",
   "mimetype": "text/x-python",
   "name": "python",
   "nbconvert_exporter": "python",
   "pygments_lexer": "ipython3",
   "version": "3.7.10"
  }
 },
 "nbformat": 4,
 "nbformat_minor": 5
}
